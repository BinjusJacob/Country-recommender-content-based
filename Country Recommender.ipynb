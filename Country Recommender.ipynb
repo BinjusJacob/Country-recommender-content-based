{
 "cells": [
  {
   "cell_type": "markdown",
   "id": "ad329be4",
   "metadata": {},
   "source": [
    "- Bulding Country recommender system based on languages spoken"
   ]
  },
  {
   "cell_type": "code",
   "execution_count": 1,
   "id": "014103e2",
   "metadata": {},
   "outputs": [],
   "source": [
    "import pandas as pd\n",
    "import numpy as np\n",
    "import warnings\n",
    "warnings.filterwarnings('ignore')"
   ]
  },
  {
   "cell_type": "code",
   "execution_count": 2,
   "id": "7ad2f0ce",
   "metadata": {},
   "outputs": [],
   "source": [
    "df=pd.read_csv(r\"C:\\Binjus Ds\\ml\\countries-languages.csv\")"
   ]
  },
  {
   "cell_type": "code",
   "execution_count": 3,
   "id": "0c87a06b",
   "metadata": {},
   "outputs": [
    {
     "data": {
      "text/html": [
       "<div>\n",
       "<style scoped>\n",
       "    .dataframe tbody tr th:only-of-type {\n",
       "        vertical-align: middle;\n",
       "    }\n",
       "\n",
       "    .dataframe tbody tr th {\n",
       "        vertical-align: top;\n",
       "    }\n",
       "\n",
       "    .dataframe thead th {\n",
       "        text-align: right;\n",
       "    }\n",
       "</style>\n",
       "<table border=\"1\" class=\"dataframe\">\n",
       "  <thead>\n",
       "    <tr style=\"text-align: right;\">\n",
       "      <th></th>\n",
       "      <th>Country</th>\n",
       "      <th>Languages Spoken</th>\n",
       "    </tr>\n",
       "  </thead>\n",
       "  <tbody>\n",
       "    <tr>\n",
       "      <th>0</th>\n",
       "      <td>Afghanistan</td>\n",
       "      <td>Dari Persian, Pashtu (both official), other Tu...</td>\n",
       "    </tr>\n",
       "    <tr>\n",
       "      <th>1</th>\n",
       "      <td>Albania</td>\n",
       "      <td>Albanian (Tosk is the official dialect), Greek</td>\n",
       "    </tr>\n",
       "    <tr>\n",
       "      <th>2</th>\n",
       "      <td>Algeria</td>\n",
       "      <td>Arabic (official), French, Berber dialects</td>\n",
       "    </tr>\n",
       "    <tr>\n",
       "      <th>3</th>\n",
       "      <td>Andorra</td>\n",
       "      <td>Catalán (official), French, Castilian, Portuguese</td>\n",
       "    </tr>\n",
       "    <tr>\n",
       "      <th>4</th>\n",
       "      <td>Angola</td>\n",
       "      <td>Portuguese (official), Bantu and other African...</td>\n",
       "    </tr>\n",
       "    <tr>\n",
       "      <th>...</th>\n",
       "      <td>...</td>\n",
       "      <td>...</td>\n",
       "    </tr>\n",
       "    <tr>\n",
       "      <th>193</th>\n",
       "      <td>Vietnam</td>\n",
       "      <td>Vietnamese (official); English (increasingly f...</td>\n",
       "    </tr>\n",
       "    <tr>\n",
       "      <th>194</th>\n",
       "      <td>Western Sahara (proposed state)</td>\n",
       "      <td>Hassaniya Arabic, Moroccan Arabic</td>\n",
       "    </tr>\n",
       "    <tr>\n",
       "      <th>195</th>\n",
       "      <td>Yemen</td>\n",
       "      <td>Arabic</td>\n",
       "    </tr>\n",
       "    <tr>\n",
       "      <th>196</th>\n",
       "      <td>Zambia</td>\n",
       "      <td>English (official); major vernaculars: Bemba, ...</td>\n",
       "    </tr>\n",
       "    <tr>\n",
       "      <th>197</th>\n",
       "      <td>Zimbabwe</td>\n",
       "      <td>English (official), Shona, Ndebele (Sindebele)...</td>\n",
       "    </tr>\n",
       "  </tbody>\n",
       "</table>\n",
       "<p>198 rows × 2 columns</p>\n",
       "</div>"
      ],
      "text/plain": [
       "                             Country  \\\n",
       "0                        Afghanistan   \n",
       "1                            Albania   \n",
       "2                            Algeria   \n",
       "3                            Andorra   \n",
       "4                             Angola   \n",
       "..                               ...   \n",
       "193                          Vietnam   \n",
       "194  Western Sahara (proposed state)   \n",
       "195                            Yemen   \n",
       "196                           Zambia   \n",
       "197                         Zimbabwe   \n",
       "\n",
       "                                      Languages Spoken  \n",
       "0    Dari Persian, Pashtu (both official), other Tu...  \n",
       "1       Albanian (Tosk is the official dialect), Greek  \n",
       "2           Arabic (official), French, Berber dialects  \n",
       "3    Catalán (official), French, Castilian, Portuguese  \n",
       "4    Portuguese (official), Bantu and other African...  \n",
       "..                                                 ...  \n",
       "193  Vietnamese (official); English (increasingly f...  \n",
       "194                  Hassaniya Arabic, Moroccan Arabic  \n",
       "195                                             Arabic  \n",
       "196  English (official); major vernaculars: Bemba, ...  \n",
       "197  English (official), Shona, Ndebele (Sindebele)...  \n",
       "\n",
       "[198 rows x 2 columns]"
      ]
     },
     "execution_count": 3,
     "metadata": {},
     "output_type": "execute_result"
    }
   ],
   "source": [
    "df"
   ]
  },
  {
   "cell_type": "code",
   "execution_count": 4,
   "id": "e37f8d40",
   "metadata": {},
   "outputs": [
    {
     "data": {
      "text/plain": [
       "Country             0\n",
       "Languages Spoken    0\n",
       "dtype: int64"
      ]
     },
     "execution_count": 4,
     "metadata": {},
     "output_type": "execute_result"
    }
   ],
   "source": [
    "df.isnull().sum()"
   ]
  },
  {
   "cell_type": "code",
   "execution_count": 8,
   "id": "4fb56531",
   "metadata": {},
   "outputs": [
    {
     "data": {
      "text/html": [
       "<div>\n",
       "<style scoped>\n",
       "    .dataframe tbody tr th:only-of-type {\n",
       "        vertical-align: middle;\n",
       "    }\n",
       "\n",
       "    .dataframe tbody tr th {\n",
       "        vertical-align: top;\n",
       "    }\n",
       "\n",
       "    .dataframe thead th {\n",
       "        text-align: right;\n",
       "    }\n",
       "</style>\n",
       "<table border=\"1\" class=\"dataframe\">\n",
       "  <thead>\n",
       "    <tr style=\"text-align: right;\">\n",
       "      <th></th>\n",
       "      <th>Country</th>\n",
       "      <th>Languages Spoken</th>\n",
       "    </tr>\n",
       "  </thead>\n",
       "  <tbody>\n",
       "    <tr>\n",
       "      <th>0</th>\n",
       "      <td>Afghanistan</td>\n",
       "      <td>Dari Persian, Pashtu (both official), other Tu...</td>\n",
       "    </tr>\n",
       "    <tr>\n",
       "      <th>1</th>\n",
       "      <td>Albania</td>\n",
       "      <td>Albanian (Tosk is the official dialect), Greek</td>\n",
       "    </tr>\n",
       "    <tr>\n",
       "      <th>2</th>\n",
       "      <td>Algeria</td>\n",
       "      <td>Arabic (official), French, Berber dialects</td>\n",
       "    </tr>\n",
       "    <tr>\n",
       "      <th>3</th>\n",
       "      <td>Andorra</td>\n",
       "      <td>Catalán (official), French, Castilian, Portuguese</td>\n",
       "    </tr>\n",
       "    <tr>\n",
       "      <th>4</th>\n",
       "      <td>Angola</td>\n",
       "      <td>Portuguese (official), Bantu and other African...</td>\n",
       "    </tr>\n",
       "    <tr>\n",
       "      <th>...</th>\n",
       "      <td>...</td>\n",
       "      <td>...</td>\n",
       "    </tr>\n",
       "    <tr>\n",
       "      <th>193</th>\n",
       "      <td>Vietnam</td>\n",
       "      <td>Vietnamese (official); English (increasingly f...</td>\n",
       "    </tr>\n",
       "    <tr>\n",
       "      <th>194</th>\n",
       "      <td>Western Sahara (proposed state)</td>\n",
       "      <td>Hassaniya Arabic, Moroccan Arabic</td>\n",
       "    </tr>\n",
       "    <tr>\n",
       "      <th>195</th>\n",
       "      <td>Yemen</td>\n",
       "      <td>Arabic</td>\n",
       "    </tr>\n",
       "    <tr>\n",
       "      <th>196</th>\n",
       "      <td>Zambia</td>\n",
       "      <td>English (official); major vernaculars: Bemba, ...</td>\n",
       "    </tr>\n",
       "    <tr>\n",
       "      <th>197</th>\n",
       "      <td>Zimbabwe</td>\n",
       "      <td>English (official), Shona, Ndebele (Sindebele)...</td>\n",
       "    </tr>\n",
       "  </tbody>\n",
       "</table>\n",
       "<p>198 rows × 2 columns</p>\n",
       "</div>"
      ],
      "text/plain": [
       "                             Country  \\\n",
       "0                        Afghanistan   \n",
       "1                            Albania   \n",
       "2                            Algeria   \n",
       "3                            Andorra   \n",
       "4                             Angola   \n",
       "..                               ...   \n",
       "193                          Vietnam   \n",
       "194  Western Sahara (proposed state)   \n",
       "195                            Yemen   \n",
       "196                           Zambia   \n",
       "197                         Zimbabwe   \n",
       "\n",
       "                                      Languages Spoken  \n",
       "0    Dari Persian, Pashtu (both official), other Tu...  \n",
       "1       Albanian (Tosk is the official dialect), Greek  \n",
       "2           Arabic (official), French, Berber dialects  \n",
       "3    Catalán (official), French, Castilian, Portuguese  \n",
       "4    Portuguese (official), Bantu and other African...  \n",
       "..                                                 ...  \n",
       "193  Vietnamese (official); English (increasingly f...  \n",
       "194                  Hassaniya Arabic, Moroccan Arabic  \n",
       "195                                             Arabic  \n",
       "196  English (official); major vernaculars: Bemba, ...  \n",
       "197  English (official), Shona, Ndebele (Sindebele)...  \n",
       "\n",
       "[198 rows x 2 columns]"
      ]
     },
     "execution_count": 8,
     "metadata": {},
     "output_type": "execute_result"
    }
   ],
   "source": [
    "df.drop_duplicates()"
   ]
  },
  {
   "cell_type": "code",
   "execution_count": 9,
   "id": "2c868980",
   "metadata": {},
   "outputs": [
    {
     "data": {
      "text/plain": [
       "'Dari Persian, Pashtu (both official), other Turkic and minor languages'"
      ]
     },
     "execution_count": 9,
     "metadata": {},
     "output_type": "execute_result"
    }
   ],
   "source": [
    "df[\"Languages Spoken\"].loc[0]"
   ]
  },
  {
   "cell_type": "markdown",
   "id": "2357daf6",
   "metadata": {},
   "source": [
    "### TF-IDF Matrix"
   ]
  },
  {
   "cell_type": "code",
   "execution_count": 10,
   "id": "b4748b96",
   "metadata": {},
   "outputs": [],
   "source": [
    "from sklearn.feature_extraction.text import TfidfVectorizer"
   ]
  },
  {
   "cell_type": "code",
   "execution_count": 11,
   "id": "ee5da556",
   "metadata": {},
   "outputs": [],
   "source": [
    "tfidf= TfidfVectorizer(stop_words='english')"
   ]
  },
  {
   "cell_type": "code",
   "execution_count": 12,
   "id": "a5d6557f",
   "metadata": {},
   "outputs": [],
   "source": [
    "tfidf_matrix=tfidf.fit_transform(df[\"Languages Spoken\"])"
   ]
  },
  {
   "cell_type": "code",
   "execution_count": 13,
   "id": "c2e41bf6",
   "metadata": {},
   "outputs": [
    {
     "data": {
      "text/plain": [
       "<198x522 sparse matrix of type '<class 'numpy.float64'>'\n",
       "\twith 1307 stored elements in Compressed Sparse Row format>"
      ]
     },
     "execution_count": 13,
     "metadata": {},
     "output_type": "execute_result"
    }
   ],
   "source": [
    "tfidf_matrix"
   ]
  },
  {
   "cell_type": "code",
   "execution_count": 14,
   "id": "755798c8",
   "metadata": {},
   "outputs": [],
   "source": [
    "from scipy import sparse"
   ]
  },
  {
   "cell_type": "code",
   "execution_count": 15,
   "id": "0faf3bdf",
   "metadata": {},
   "outputs": [
    {
     "data": {
      "text/plain": [
       "array([[0., 0., 0., ..., 0., 0., 0.],\n",
       "       [0., 0., 0., ..., 0., 0., 0.],\n",
       "       [0., 0., 0., ..., 0., 0., 0.],\n",
       "       ...,\n",
       "       [0., 0., 0., ..., 0., 0., 0.],\n",
       "       [0., 0., 0., ..., 0., 0., 0.],\n",
       "       [0., 0., 0., ..., 0., 0., 0.]])"
      ]
     },
     "execution_count": 15,
     "metadata": {},
     "output_type": "execute_result"
    }
   ],
   "source": [
    "#converting sparse matrix to array\n",
    "new_array=tfidf_matrix.toarray()\n",
    "new_array"
   ]
  },
  {
   "cell_type": "code",
   "execution_count": 17,
   "id": "dee06829",
   "metadata": {},
   "outputs": [
    {
     "data": {
      "text/plain": [
       "(198, 522)"
      ]
     },
     "execution_count": 17,
     "metadata": {},
     "output_type": "execute_result"
    }
   ],
   "source": [
    "tfidf_matrix.shape"
   ]
  },
  {
   "cell_type": "markdown",
   "id": "d1978078",
   "metadata": {},
   "source": [
    "- The vectorizer  has created 522 dimensional vector for the Languages_Spoken for every country"
   ]
  },
  {
   "cell_type": "markdown",
   "id": "65093b04",
   "metadata": {},
   "source": [
    "### Cosine similarity"
   ]
  },
  {
   "cell_type": "code",
   "execution_count": 18,
   "id": "5ae3e69d",
   "metadata": {},
   "outputs": [],
   "source": [
    "from sklearn.metrics.pairwise import cosine_similarity"
   ]
  },
  {
   "cell_type": "code",
   "execution_count": 20,
   "id": "741fd9cf",
   "metadata": {},
   "outputs": [],
   "source": [
    "cosine_sim=cosine_similarity(tfidf_matrix,tfidf_matrix)"
   ]
  },
  {
   "cell_type": "markdown",
   "id": "74ef444f",
   "metadata": {},
   "source": [
    "### Building Recommender"
   ]
  },
  {
   "cell_type": "code",
   "execution_count": 21,
   "id": "0dbfcaa2",
   "metadata": {},
   "outputs": [],
   "source": [
    "def content_recom(country,cosine_sim=cosine_sim,df=df):\n",
    "    #get index of country matching input \n",
    "    idx=df[df[\"Country\"]==country].index[0]\n",
    "    # geting pairwise similarity scores of all countries against  that country and covert it into a list of tuples\n",
    "    sim_scores=list(enumerate(cosine_sim[idx]))\n",
    "    #sorting countries based on their similarity\n",
    "    sim_scores=sorted(sim_scores,key= lambda x: x[1],reverse=True)\n",
    "    # most similar 10 countries,ignore the first country\n",
    "    sim_scores=sim_scores[1:6]\n",
    "    #Getting the country indices\n",
    "    country_indices=[i[0] for i in sim_scores]\n",
    "    #returning top 5 countries which are similar to the input\n",
    "    return df[\"Country\"].iloc[country_indices]"
   ]
  },
  {
   "cell_type": "code",
   "execution_count": 25,
   "id": "9a5b6329",
   "metadata": {},
   "outputs": [
    {
     "data": {
      "text/plain": [
       "119         Morocco\n",
       "152    Saudi Arabia\n",
       "195           Yemen\n",
       "85           Jordan\n",
       "92           Kuwait\n",
       "Name: Country, dtype: object"
      ]
     },
     "execution_count": 25,
     "metadata": {},
     "output_type": "execute_result"
    }
   ],
   "source": [
    "content_recom(\"Algeria\")"
   ]
  },
  {
   "cell_type": "code",
   "execution_count": 26,
   "id": "83d44378",
   "metadata": {},
   "outputs": [
    {
     "data": {
      "text/plain": [
       "28                Cambodia\n",
       "110       Marshall Islands\n",
       "142                  Qatar\n",
       "178    Trinidad and Tobago\n",
       "24                  Brunei\n",
       "Name: Country, dtype: object"
      ]
     },
     "execution_count": 26,
     "metadata": {},
     "output_type": "execute_result"
    }
   ],
   "source": [
    "content_recom(\"Vietnam\")"
   ]
  },
  {
   "cell_type": "code",
   "execution_count": null,
   "id": "3bc86405",
   "metadata": {},
   "outputs": [],
   "source": []
  }
 ],
 "metadata": {
  "kernelspec": {
   "display_name": "Python 3 (ipykernel)",
   "language": "python",
   "name": "python3"
  },
  "language_info": {
   "codemirror_mode": {
    "name": "ipython",
    "version": 3
   },
   "file_extension": ".py",
   "mimetype": "text/x-python",
   "name": "python",
   "nbconvert_exporter": "python",
   "pygments_lexer": "ipython3",
   "version": "3.11.5"
  }
 },
 "nbformat": 4,
 "nbformat_minor": 5
}
